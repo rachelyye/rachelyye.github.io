{
 "cells": [
  {
   "cell_type": "markdown",
   "id": "561fe4d8",
   "metadata": {},
   "source": [
    "# Job Ads Exercise using MySQL"
   ]
  },
  {
   "cell_type": "markdown",
   "id": "5e8afb35",
   "metadata": {},
   "source": [
    "#### 1) Write a query to display job_id, job_title, salary_estimate_min, salary_estimate_max where salary_estimate_max is less than 105,000"
   ]
  },
  {
   "cell_type": "raw",
   "id": "c13fdabf",
   "metadata": {},
   "source": [
    "SELECT job_id, job_title, salary_estimate_min, salary_estimate_max\n",
    "FROM jobs\n",
    "WHERE REPLACE(salary_estimate_max,'K','') < 105;"
   ]
  },
  {
   "cell_type": "markdown",
   "id": "70ad9141",
   "metadata": {},
   "source": [
    "#### 2) Write a query to display the company_name, company_rank, company_size_min, and company_size_max for companies with more than 60 employees and less than 120 employees"
   ]
  },
  {
   "cell_type": "raw",
   "id": "1255d3c4",
   "metadata": {},
   "source": [
    "SELECT DISTINCT company_name, company_rank, company_size_min, company_size_max\n",
    "FROM jobs\n",
    "WHERE REPLACE(company_size_min, ' Employees', '') > 60 AND REPLACE(company_size_max, ' Employees', '') < 120;"
   ]
  },
  {
   "cell_type": "markdown",
   "id": "9d92d590",
   "metadata": {},
   "source": [
    "#### 3) Write a query to display the job_id, job_title in uppercase, company_name in lowercase"
   ]
  },
  {
   "cell_type": "raw",
   "id": "a68b0163",
   "metadata": {},
   "source": [
    "SELECT job_id, UPPER(job_title) AS 'upper_jobtitle', LOWER(company_name) AS 'lower_companyname'\n",
    "FROM jobs;"
   ]
  },
  {
   "cell_type": "markdown",
   "id": "d5b2ad28",
   "metadata": {},
   "source": [
    "#### 4) Write a query to display the  job_id, company_name, headquarters_of_company, first letter of company_name, first letter of headquarters_of_company"
   ]
  },
  {
   "cell_type": "raw",
   "id": "608a1198",
   "metadata": {},
   "source": [
    "SELECT job_id, company_name, headquarters_of_company,\n",
    "       SUBSTRING(company_name,1,1)             AS 'company_name_first_letter',    \n",
    "       SUBSTRING(headquarters_of_company, 1,1) AS 'state_of_company_first_letter'      \n",
    "FROM jobs;"
   ]
  },
  {
   "cell_type": "markdown",
   "id": "ada85878",
   "metadata": {},
   "source": [
    "####  5) Write a query to display the job_id, company_name, headquarters_of_company, company_code (a new column containing a concatenation of the first letter of company_name and the first letter of headquarters_of_company)"
   ]
  },
  {
   "cell_type": "raw",
   "id": "1b6332c1",
   "metadata": {},
   "source": [
    "SELECT job_id, company_name, headquarters_of_company,\n",
    "       CONCAT(SUBSTRING(company_name,1,1), SUBSTRING(headquarters_of_company, 1,1)) AS 'company_code'   \n",
    "FROM   jobs;"
   ]
  },
  {
   "cell_type": "markdown",
   "id": "172b4c4f",
   "metadata": {},
   "source": [
    "#### 6) Repeat query no.5 but this time display the company_code in lowercase"
   ]
  },
  {
   "cell_type": "raw",
   "id": "414407df",
   "metadata": {},
   "source": [
    "SELECT job_id, company_name, headquarters_of_company,\n",
    "       LOWER(CONCAT(SUBSTRING(company_name,1,1), SUBSTRING(headquarters_of_company, 1,1))) AS 'company_code'\n",
    "FROM   jobs;"
   ]
  },
  {
   "cell_type": "markdown",
   "id": "c84bba64",
   "metadata": {},
   "source": [
    "#### 7) Write a query to display the job titles with length greater than 29"
   ]
  },
  {
   "cell_type": "raw",
   "id": "22bc0b53",
   "metadata": {},
   "source": [
    "SELECT DISTINCT job_title\n",
    "FROM jobs\n",
    "WHERE LENGTH(job_title) > 29;"
   ]
  },
  {
   "cell_type": "markdown",
   "id": "a48da67c",
   "metadata": {},
   "source": [
    "#### 8) Write a query to display the company_name, company_rank, company_market_value, company_market_value rounded using ROUND function with precision of 2 digits, company_market_value rounded down using FLOOR, company_market_value rounded up using CEIL "
   ]
  },
  {
   "cell_type": "raw",
   "id": "fbb7196f",
   "metadata": {},
   "source": [
    "SELECT company_name, company_rank, company_market_value,\n",
    "       ROUND(company_market_value, 2) AS 'round_mv',\n",
    "       FLOOR(company_market_value) AS 'floor_mv',\n",
    "       CEIL(company_market_value) AS 'ceil_mv'\n",
    "FROM   jobs;"
   ]
  },
  {
   "cell_type": "markdown",
   "id": "83698cca",
   "metadata": {},
   "source": [
    "#### 9) Write a query to display the job_id, job_title, published_date, and removed_date for all jobs that were published on 2016"
   ]
  },
  {
   "cell_type": "raw",
   "id": "e78700af",
   "metadata": {},
   "source": [
    "SELECT job_id, job_title, published_date, removed_date \n",
    "FROM jobs\n",
    "WHERE YEAR(published_date) = 2016;"
   ]
  },
  {
   "cell_type": "markdown",
   "id": "0ca28907",
   "metadata": {},
   "source": [
    "#### 10) Which job adverts were posted during January 2017? "
   ]
  },
  {
   "cell_type": "raw",
   "id": "673bb2da",
   "metadata": {},
   "source": [
    "SELECT job_id, job_title, published_date, removed_date \n",
    "FROM jobs\n",
    "WHERE YEAR(published_date) = 2017 AND MONTH(published_date) = 1;"
   ]
  },
  {
   "cell_type": "markdown",
   "id": "6ab5acd2",
   "metadata": {},
   "source": [
    "#### 11) Which job adverts were removed after a single day?"
   ]
  },
  {
   "cell_type": "raw",
   "id": "22e66343",
   "metadata": {},
   "source": [
    "SELECT job_id, job_title, published_date, removed_date\n",
    "FROM jobs\n",
    "WHERE DATEDIFF(removed_date, published_date) = 1;"
   ]
  },
  {
   "cell_type": "markdown",
   "id": "ae1733d5",
   "metadata": {},
   "source": [
    "#### 12) Which job adverts were posted on the same day and month as the current date? For example, if today is February 11th 2021, which jobs were published on February 11th (regardless the year)?"
   ]
  },
  {
   "cell_type": "raw",
   "id": "ea4a462f",
   "metadata": {},
   "source": [
    "SELECT job_id, job_title, published_date, removed_date\n",
    "FROM jobs\n",
    "WHERE DAY(published_date) = DAY(CURDATE())\n",
    "AND   MONTH(published_date) = MONTH(CURDATE())；"
   ]
  },
  {
   "cell_type": "markdown",
   "id": "9e757abe",
   "metadata": {},
   "source": [
    "#### 13）In a few job adverts, the value of published_date is greater than the removed_date,  those rows represent invalid data. Find those rows."
   ]
  },
  {
   "cell_type": "raw",
   "id": "0ef2b11a",
   "metadata": {},
   "source": [
    "SELECT job_id, job_title, published_date, removed_date\n",
    "FROM jobs\n",
    "WHERE published_date > removed_date;"
   ]
  },
  {
   "cell_type": "markdown",
   "id": "8bab5564",
   "metadata": {},
   "source": [
    "#### 14) List the job adverts where at least one of the following conditions is met: (1) the row does not contain a value in removed_date, (2) the row does not contain a value in company_name or (3) |the row does not contain a value in headquarters_of_company"
   ]
  },
  {
   "cell_type": "raw",
   "id": "d0698ca6",
   "metadata": {},
   "source": [
    "SELECT job_id, job_title, removed_date, company_name, headquarters_of_company\n",
    "FROM jobs \n",
    "WHERE removed_date IS NULL OR \n",
    "      company_name IS NULL OR \n",
    "      headquarters_of_company IS NULL;"
   ]
  },
  {
   "cell_type": "markdown",
   "id": "269cecaa",
   "metadata": {},
   "source": [
    "#### 15) Use the previous queries and instead of the NULL values, display: (1) the current date instead of NULL values in removed_date, (2) the company_state instead of NULL values in headquarters_of_company, (3) 'Not Available' instead of NULL values in company_name"
   ]
  },
  {
   "cell_type": "raw",
   "id": "7f3a4b5d",
   "metadata": {},
   "source": [
    "SELECT job_id, job_title, \n",
    "       IFNULL(removed_date, CURDATE()) AS 'removed_date',\n",
    "       IFNULL(headquarters_of_company, state_of_company) AS 'headquarters_of_company',\n",
    "       IFNULL(company_name, 'Not Available') AS 'company_name'\n",
    "FROM jobs \n",
    "WHERE removed_date IS NULL OR \n",
    "      company_name IS NULL OR \n",
    "      headquarters_of_company IS NULL;"
   ]
  },
  {
   "cell_type": "markdown",
   "id": "59acd8b9",
   "metadata": {},
   "source": [
    "#### 16) Write a query to display the company_name, company_market_value, and a new column named as 'company_market_value_rank' based on the following logic: \n",
    "\n",
    "#### a. For companies with market_value in the range of 0-300 provide the rank : 'low range'\n",
    "\n",
    "#### b. For companies with market_value in the range of 301-600 provide the rank : 'mid range'\n",
    "\n",
    "#### c. For companies with market_value in the range of 601-900 provide the rank : 'high range'\n",
    "\n",
    "#### d. For any other range provide the rank : 'other range'"
   ]
  },
  {
   "cell_type": "raw",
   "id": "38b085fd",
   "metadata": {},
   "source": [
    "SELECT DISTINCT company_name, company_market_value, \n",
    "\t\tCASE WHEN company_market_value BETWEEN 0 AND 300 THEN   'low range'\n",
    "\t\t\t WHEN company_market_value BETWEEN 301 AND 600 THEN 'mid range'\n",
    "             WHEN company_market_value BETWEEN 601 AND 900 THEN 'high range'\n",
    "\t\t\t ELSE 'other range'\n",
    "\t\tEND AS 'company_market_value_rank'\n",
    "FROM   jobs;"
   ]
  },
  {
   "cell_type": "markdown",
   "id": "014a0f5c",
   "metadata": {},
   "source": [
    "#### 17) Write a query to display the job_title, company_name, company_size_min, company_size_max, and a new column 'company_size' based on the following logic:\n",
    "\n",
    "#### a. For companies with up to 60 employees, provide the value: ‘Small Company’\n",
    "\n",
    "#### b. For companies with up to 120 employees, provide the value: ‘Medium Company’\n",
    "\n",
    "#### c. For companies with up to 180 employees, provide the value: ‘ Large Company’\n",
    "\n",
    "#### d. For any other range 'Unknown' "
   ]
  },
  {
   "cell_type": "raw",
   "id": "447cf324",
   "metadata": {},
   "source": [
    "SELECT job_title, company_name, company_size_min, company_size_max, \n",
    "\t   CASE WHEN REPLACE(company_size_max, ' Employees', '') <= 60 THEN 'Small Company'\n",
    "\t\t\tWHEN REPLACE(company_size_max, ' Employees', '') <=  120 THEN 'Medium Company'\n",
    "            WHEN REPLACE(company_size_max, ' Employees', '') <=  180 THEN 'Large Company'\n",
    "            ELSE 'Unknown'\n",
    "\t\tEND AS 'company_size'\n",
    "FROM   jobs;"
   ]
  }
 ],
 "metadata": {
  "kernelspec": {
   "display_name": "Python 3",
   "language": "python",
   "name": "python3"
  },
  "language_info": {
   "codemirror_mode": {
    "name": "ipython",
    "version": 3
   },
   "file_extension": ".py",
   "mimetype": "text/x-python",
   "name": "python",
   "nbconvert_exporter": "python",
   "pygments_lexer": "ipython3",
   "version": "3.8.8"
  }
 },
 "nbformat": 4,
 "nbformat_minor": 5
}
